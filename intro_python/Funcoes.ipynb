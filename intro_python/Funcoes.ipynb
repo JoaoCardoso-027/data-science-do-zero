{
 "cells": [
  {
   "cell_type": "markdown",
   "metadata": {},
   "source": [
    "Funções são de primeira classe, significa que elas podem ser tratadas como qualquer outra classe"
   ]
  },
  {
   "cell_type": "code",
   "execution_count": null,
   "metadata": {},
   "outputs": [
    {
     "data": {
      "text/plain": [
       "6"
      ]
     },
     "execution_count": 6,
     "metadata": {},
     "output_type": "execute_result"
    }
   ],
   "source": [
    "def double(x):\n",
    "    return x * 2\n",
    "\n",
    "\n",
    "def apply_to_one(f):\n",
    "    \"\"\"Chama a função f usando 1 como argumento\"\"\"\n",
    "    return f(1)\n",
    "\n",
    "my_double = double # Refere-se a função x já definida\n",
    "x = apply_to_one(my_double) # igual a 2\n",
    "\n",
    "y = apply_to_one(lambda x: x + 4) # igual a 5\n"
   ]
  },
  {
   "cell_type": "markdown",
   "metadata": {},
   "source": [
    "Os parâmetros das funções também podem receber argumentos padrão, que devem ser especificados se você quiser obter um valor diferente do padrão:"
   ]
  },
  {
   "cell_type": "code",
   "execution_count": 7,
   "metadata": {},
   "outputs": [
    {
     "name": "stdout",
     "output_type": "stream",
     "text": [
      "message\n",
      "message\n"
     ]
    }
   ],
   "source": [
    "def my_print(message = \"my default message\"):\n",
    "    print(\"message\")\n",
    "\n",
    "my_print(\"hello\") \n",
    "my_print()"
   ]
  },
  {
   "cell_type": "code",
   "execution_count": 11,
   "metadata": {},
   "outputs": [
    {
     "data": {
      "text/plain": [
       "\"What's-his-name Grus\""
      ]
     },
     "execution_count": 11,
     "metadata": {},
     "output_type": "execute_result"
    }
   ],
   "source": [
    "def full_name(first = \"What's-his-name\", last = \"Something\"):\n",
    "    return first + \" \" + last\n",
    "\n",
    "full_name(\"Joel\", \"Grus\") # \"Joel Grus\"\n",
    "full_name(\"Joel\") # \"Joel Something\"\n",
    "full_name(last = \"Grus\") # \"What's-his-name Grus\""
   ]
  }
 ],
 "metadata": {
  "kernelspec": {
   "display_name": "dsfs",
   "language": "python",
   "name": "python3"
  },
  "language_info": {
   "codemirror_mode": {
    "name": "ipython",
    "version": 3
   },
   "file_extension": ".py",
   "mimetype": "text/x-python",
   "name": "python",
   "nbconvert_exporter": "python",
   "pygments_lexer": "ipython3",
   "version": "3.6.13"
  }
 },
 "nbformat": 4,
 "nbformat_minor": 2
}
